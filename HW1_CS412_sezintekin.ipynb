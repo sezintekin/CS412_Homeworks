{
  "nbformat": 4,
  "nbformat_minor": 0,
  "metadata": {
    "colab": {
      "provenance": []
    },
    "kernelspec": {
      "name": "python3",
      "display_name": "Python 3"
    },
    "gpuClass": "standard"
  },
  "cells": [
    {
      "cell_type": "markdown",
      "metadata": {
        "id": "voHKcAfRfdNY"
      },
      "source": [
        "# CS412 - Machine Learning - 2023\n",
        "## Homework 1\n",
        "100 pts\n",
        "\n",
        "## Software:\n",
        "\n",
        "You may find the necessary function references here:\n",
        "\n",
        "http://scikit-learn.org/stable/supervised_learning.html\n",
        "\n",
        "When you search for KNeighborsClassifier for instance, you should find the relevant function and explained parameters, easily.\n",
        "\n",
        "## Submission:\n",
        "Fill this notebook. Write the report section at the end, removing the part in italics.\n",
        "\n",
        "You should prepare a separate pdf document as your homework (name HW1-CS412-yourname.pdf) which consists of the report (Part 8) of the notebook for easy viewing -and- include a link to your notebook from within the pdf report (make sure to include the link obtained from the **Share** button on top right)."
      ]
    },
    {
      "cell_type": "markdown",
      "metadata": {
        "id": "_YOYiWvHbNDW"
      },
      "source": [
        "##1) Initialize\n",
        "\n",
        "*   First make a copy of the notebook given to you as a starter.\n",
        "\n",
        "*   Make sure you click the Connect button from upper right.\n"
      ]
    },
    {
      "cell_type": "code",
      "source": [
        "import numpy as np\n",
        "np.random.seed(412)"
      ],
      "metadata": {
        "id": "UIjLyYzJvant"
      },
      "execution_count": null,
      "outputs": []
    },
    {
      "cell_type": "markdown",
      "metadata": {
        "id": "MM-wwHR8qL0M"
      },
      "source": [
        "## 2) Load training dataset\n",
        "\n",
        "*  Read MNIST dataset from Keras library.\n",
        "\n"
      ]
    },
    {
      "cell_type": "code",
      "metadata": {
        "id": "vsX8gEbCUqPr",
        "colab": {
          "base_uri": "https://localhost:8080/"
        },
        "outputId": "02340c14-783d-4505-e894-c2b2d36a950c"
      },
      "source": [
        "# this cell can be skipped at the running time\n",
        "from keras.datasets import mnist\n",
        "(X_train, Y_train), (X_test, y_test) = mnist.load_data()"
      ],
      "execution_count": null,
      "outputs": [
        {
          "output_type": "stream",
          "name": "stdout",
          "text": [
            "Downloading data from https://storage.googleapis.com/tensorflow/tf-keras-datasets/mnist.npz\n",
            "11490434/11490434 [==============================] - 1s 0us/step\n"
          ]
        }
      ]
    },
    {
      "cell_type": "markdown",
      "source": [
        "##3) Reshape the MNIST data\n",
        "\n",
        "  In order to use images as input data for the sklearn k-NN classifier, the 2D image arrays need to be reshaped into a 1D arrays (in other words, a feature vector)."
      ],
      "metadata": {
        "id": "jykF6CFioiSw"
      }
    },
    {
      "cell_type": "code",
      "source": [
        "print('Before reshaping: ', X_train.shape, X_test.shape)"
      ],
      "metadata": {
        "id": "LAX4AsLWrGam",
        "outputId": "26263b20-24dd-497e-edcd-faf56da88f63",
        "colab": {
          "base_uri": "https://localhost:8080/"
        }
      },
      "execution_count": null,
      "outputs": [
        {
          "output_type": "stream",
          "name": "stdout",
          "text": [
            "Before reshaping:  (60000, 28, 28) (10000, 28, 28)\n"
          ]
        }
      ]
    },
    {
      "cell_type": "code",
      "source": [
        "N_train, height, width = X_train.shape\n",
        "\n",
        "X_train = np.reshape(X_train, (N_train, height*width)) # from array of shape N_train x 28 x 28 ---> N_train x 784 (Note: 28*28 = 784)\n",
        "X_test = np.reshape(X_test, (len(X_test), height*width)) # from array of shape N_test x 28 x 28 ---> N_test x 784"
      ],
      "metadata": {
        "id": "SEqkxBe5ohf1"
      },
      "execution_count": null,
      "outputs": []
    },
    {
      "cell_type": "code",
      "source": [
        "print('After reshaping: ', X_train.shape, X_test.shape)"
      ],
      "metadata": {
        "id": "Zob6_DCBqSHI",
        "outputId": "fb1ae61f-9e69-4f37-ed7f-5ee98d35fbbc",
        "colab": {
          "base_uri": "https://localhost:8080/"
        }
      },
      "execution_count": null,
      "outputs": [
        {
          "output_type": "stream",
          "name": "stdout",
          "text": [
            "After reshaping:  (60000, 784) (10000, 784)\n"
          ]
        }
      ]
    },
    {
      "cell_type": "markdown",
      "metadata": {
        "id": "Vop4rwZVxh9Z"
      },
      "source": [
        "##4) Shuffle and Split TRAINING data as train (also called development) (80%) and validation (20%)"
      ]
    },
    {
      "cell_type": "code",
      "metadata": {
        "id": "KEhk8R24xhdY"
      },
      "source": [
        "from sklearn.utils import shuffle\n",
        "from sklearn.model_selection import train_test_split\n",
        "# Shuffle the training data\n",
        "X_train, Y_train = shuffle(X_train, Y_train)\n",
        "\n",
        "# Split %80 train - 20% val\n",
        "X_train, X_val, Y_train, Y_val = train_test_split(X_train, Y_train, test_size = 0.2)\n",
        "# Before"
      ],
      "execution_count": null,
      "outputs": []
    },
    {
      "cell_type": "markdown",
      "metadata": {
        "id": "xR1oMsPu0AV_"
      },
      "source": [
        "##5) Train k-NN  classifier on development data and do model selection using the validation data\n",
        "\n",
        "\n",
        "* Train a k-NN classifier (use the values specified in the homework PDF file, do not try other values) with the rest of the parameters set to default.\n",
        "\n",
        "* The aim in this homework is not necessarily obtaining the best performance, but to establish the ML pipeline (train a few models, select based on validation set, test, report).\n"
      ]
    },
    {
      "cell_type": "code",
      "metadata": {
        "id": "Nv6oac-T3Wy5",
        "outputId": "660aed20-1c3a-4fe0-fd01-cb51e9d11331",
        "colab": {
          "base_uri": "https://localhost:8080/"
        }
      },
      "source": [
        "from sklearn.neighbors import KNeighborsClassifier\n",
        "from sklearn.metrics import accuracy_score\n",
        "\n",
        "k_values = [1, 3, 5, 7, 9, 11, 13]   # <--- Fill the list with the values for n_neighbors\n",
        "\n",
        "best_acc = -1\n",
        "best_k = None\n",
        "val_accs = []\n",
        "for k in k_values:\n",
        "  knn = KNeighborsClassifier(n_neighbors=k)\n",
        "  knn.fit(X_train, Y_train)\n",
        "  y_pred = knn.predict(X_val)\n",
        "  acc = accuracy_score(Y_val, y_pred)\n",
        "  val_accs.append(acc)\n",
        "\n",
        "  if acc > best_acc:\n",
        "    best_acc = acc\n",
        "    best_k = k\n",
        "\n",
        "\n",
        "  print('Validation accuracy for k=', k, ' :', acc)\n",
        "  # if validation accuracy is better than best_acc, update best_acc and best_k\n",
        "\n",
        "print('Best validation accuracy (', best_acc, ') is achieved with k=', best_k)"
      ],
      "execution_count": null,
      "outputs": [
        {
          "output_type": "stream",
          "name": "stdout",
          "text": [
            "Validation accuracy for k= 1  : 0.9711666666666666\n",
            "Validation accuracy for k= 3  : 0.9708333333333333\n",
            "Validation accuracy for k= 5  : 0.9699166666666666\n",
            "Validation accuracy for k= 7  : 0.9676666666666667\n",
            "Validation accuracy for k= 9  : 0.96625\n",
            "Validation accuracy for k= 11  : 0.9655\n",
            "Validation accuracy for k= 13  : 0.96475\n",
            "Best validation accuracy ( 0.9711666666666666 ) is achieved with k= 1\n"
          ]
        }
      ]
    },
    {
      "cell_type": "markdown",
      "source": [
        "## 6) Plot the obtained validation accuracies versus k values"
      ],
      "metadata": {
        "id": "DQ-0AmI3eqVL"
      }
    },
    {
      "cell_type": "code",
      "source": [
        "import matplotlib.pyplot as plt\n",
        "\n",
        "plt.plot(k_values, val_accs)\n",
        "plt.xticks(k_values)\n",
        "plt.xlabel('k')\n",
        "plt.ylabel('Validation Accuracy')\n",
        "plt.show()"
      ],
      "metadata": {
        "id": "L4P-dYSoeo3y",
        "colab": {
          "base_uri": "https://localhost:8080/",
          "height": 279
        },
        "outputId": "cf995b53-fb57-49a5-f50a-fc682f45aa8d"
      },
      "execution_count": null,
      "outputs": [
        {
          "output_type": "display_data",
          "data": {
            "text/plain": [
              "<Figure size 432x288 with 1 Axes>"
            ],
            "image/png": "[encoded data removed]"
          },
          "metadata": {
            "needs_background": "light"
          }
        }
      ]
    },
    {
      "cell_type": "markdown",
      "metadata": {
        "id": "boqe46St1--f"
      },
      "source": [
        "## 7) Test your classifier on test set\n",
        "\n",
        "- Now that you have the best value for the ***n_neighbors*** parameter, train a model **with best parameters that you have found according to your validation results**. But now, train the model by combining the training and validation sets. Then report the accuracy on the test set."
      ]
    },
    {
      "cell_type": "code",
      "metadata": {
        "id": "IPLke8jyFGng",
        "colab": {
          "base_uri": "https://localhost:8080/"
        },
        "outputId": "842fa772-e5b6-4ca8-a2e5-dfee1bb6bb27"
      },
      "source": [
        "knn = KNeighborsClassifier(n_neighbors=best_k)\n",
        "X_trainval = np.concatenate((X_train, X_val), axis = 0)\n",
        "Y_trainval = np.concatenate((Y_train, Y_val), axis = 0)\n",
        "knn.fit(X_trainval, Y_trainval)\n",
        "y_pred = knn.predict(X_test)\n",
        "\n",
        "testing_acc = accuracy_score(y_test, y_pred)\n",
        "\n",
        "print('Test accuracy for k=', best_k, ' :', best_acc)\n",
        "\n",
        "\n",
        "# Report your result"
      ],
      "execution_count": null,
      "outputs": [
        {
          "output_type": "stream",
          "name": "stdout",
          "text": [
            "Test accuracy for k= 1  : 0.9711666666666666\n"
          ]
        }
      ]
    },
    {
      "cell_type": "markdown",
      "metadata": {
        "id": "WG3473I9dGE8"
      },
      "source": [
        "##8) Report your results\n",
        "\n",
        "We have implemented a k-NN classifier by using Scikit-learn library and found the optimal number of nearest neighbors. The dataset was downloaded from the Keras Library MNIST dataset.  \n",
        "Firstly, we prepared our data and reshaped the MNIST data into a 1D feature vector to use images as input data for the k-NN classifier. Then we shuffled and split our data into a train set (80%) and a validation set (20%) for our model selection.\n",
        "\n",
        "On our next step, we trained our k-NN classifier with n_neighbors values of 1,3,5,7,9,11,13. Then we evaluated the performance of each model on our validation set.\n",
        "After evaluating the performance, we plotted the validation accuracies and n_neighbors to visualize the relationship between them using the Matplotlib library.\n",
        "\n",
        "\n",
        "\n",
        "\n",
        "\n",
        "\n",
        "\n",
        "\n",
        "\n",
        "\n",
        "\n",
        "\n",
        "After plotting our relationship, we chose the optimal value of n_neighbors based on our validation results.\n",
        "Finally, we trained the model with best parameters which were obtained by our validation results by combining the training and validation sets and tested it on our test set. The validation accuracies for each n_neighbors are shown below:\n",
        "\n",
        "\n",
        "\n",
        "\n",
        "\n",
        "\n",
        "n_neighbors\tValidation Accuracy\n",
        "1\t= 0.0994\n",
        "3 =\t0.0946\n",
        "5 =\t0.0961\n",
        "7 =\t0.1007\n",
        "9 =\t0.1031\n",
        "11 = 0.1034\n",
        "13 =\t0.1033\n",
        "\n",
        "\n",
        "We have obtained the best results on the validation set with the k-NN classifier approach using a value of 11 for the n_neighbors parameter. The result of this model on the test data is 10.34% accuracy.\n"
      ]
    }
  ]
}